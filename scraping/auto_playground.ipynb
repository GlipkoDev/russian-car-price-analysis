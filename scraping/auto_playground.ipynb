{
 "cells": [
  {
   "cell_type": "code",
   "execution_count": 235,
   "id": "3136a30b",
   "metadata": {},
   "outputs": [],
   "source": [
    "import requests\n",
    "from bs4 import BeautifulSoup as bs\n",
    "\n",
    "from marketplaces.auto import Auto\n",
    "from marketplaces.market_logger import MarketplaceLogger"
   ]
  },
  {
   "cell_type": "code",
   "execution_count": 75,
   "id": "433cac7d",
   "metadata": {},
   "outputs": [],
   "source": [
    "url_to_parse = 'https://auto.ru/rossiya/cars/all/?customs_state_group=DOESNT_MATTER&page={}'"
   ]
  },
  {
   "cell_type": "code",
   "execution_count": 76,
   "id": "ef3240f9",
   "metadata": {},
   "outputs": [],
   "source": [
    "response = requests.get(url_to_parse.format(1))"
   ]
  },
  {
   "cell_type": "code",
   "execution_count": 77,
   "id": "2b7c3271",
   "metadata": {},
   "outputs": [
    {
     "data": {
      "text/plain": [
       "200"
      ]
     },
     "execution_count": 77,
     "metadata": {},
     "output_type": "execute_result"
    }
   ],
   "source": [
    "response.status_code"
   ]
  },
  {
   "cell_type": "code",
   "execution_count": 78,
   "id": "817197c3",
   "metadata": {},
   "outputs": [],
   "source": [
    "soup = bs(response.content, 'html.parser')"
   ]
  },
  {
   "cell_type": "code",
   "execution_count": 79,
   "id": "bbad832e",
   "metadata": {},
   "outputs": [],
   "source": [
    "offers = soup.select('div[class=ListingItem__description]')"
   ]
  },
  {
   "cell_type": "code",
   "execution_count": 80,
   "id": "fd9dd4d8",
   "metadata": {},
   "outputs": [
    {
     "data": {
      "text/plain": [
       "37"
      ]
     },
     "execution_count": 80,
     "metadata": {},
     "output_type": "execute_result"
    }
   ],
   "source": [
    "len(offers)"
   ]
  },
  {
   "cell_type": "code",
   "execution_count": 94,
   "id": "96234cf1",
   "metadata": {},
   "outputs": [],
   "source": [
    "offer = offers[0]"
   ]
  },
  {
   "cell_type": "code",
   "execution_count": 95,
   "id": "ae004f61",
   "metadata": {},
   "outputs": [
    {
     "data": {
      "text/plain": [
       "'15\\xa0260\\xa0000\\xa0₽'"
      ]
     },
     "execution_count": 95,
     "metadata": {},
     "output_type": "execute_result"
    }
   ],
   "source": [
    "offer.select_one('.ListingItemPrice__content').get_text()"
   ]
  },
  {
   "cell_type": "code",
   "execution_count": 96,
   "id": "5801e7ea",
   "metadata": {},
   "outputs": [],
   "source": [
    "offer_with_discount = \"\"\"<div class=\"ListingItem\"><div class=\"ListingItem__main\"><div class=\"ListingItem__thumb\"><a class=\"Link OfferThumb\" href=\"https://auto.ru/cars/used/sale/skoda/octavia/1116434340-f7bb8687/\" target=\"_blank\"><div class=\"OfferThumb__brazzers\"><div class=\"Brazzers\"><div class=\"Brazzers__page\"><div class=\"Brazzers__image-wrapper undefined\"><div class=\"LazyImage Brazzers__image undefined LazyImage_theme_default LazyImage_loaded LazyImage_visible\"><img class=\"LazyImage__image\" alt=\"2017 Skoda Octavia III (A7) Рестайлинг, чёрный, 1384000 рублей, вид 1\" srcset=\"//avatars.mds.yandex.net/get-autoru-vos/5553260/8aa4bcec8e08fa74380678d3073ff845/320x240\" src=\"//avatars.mds.yandex.net/get-autoru-vos/5553260/8aa4bcec8e08fa74380678d3073ff845/320x240\"></div></div><div class=\"Brazzers__button\"></div></div><div class=\"Brazzers__page\"><div class=\"Brazzers__image-wrapper undefined\"><div class=\"LazyImage Brazzers__image undefined LazyImage_theme_default LazyImage_loaded LazyImage_visible\"><iframe src=\"https://yastatic.net/naydex/autoru/zp25cs828/bdffe6pw/XSh2mAUBeWyCNa-obD_rwj0OrAWituGpjOqTy5L7P7Kkc_Uefb2D80F84e7XPWSYHiEDEyDWGd3lyHGM5h76sF0Z1jyB1XhN8mHfKc0LGmaZbxwEA4cwDU2Ksk-j-j-SJMLgb3ycQ9BS7sLNZE4WquyDgcIBl4gJlciyH-MOuuBNKAbMAMV47dJBT7g8azqnGa9tlTLXgb0tGiLuUxp-UySDgd_dnaIB8t7i_IVex2vM0jBzYBcJOaX4c-9ivuuQDOnX4\" id=\"csr-uniq256\" class=\"LazyImage__image LazyImage__image_hidden m329b8d1\" scrolling=\"no\" tabindex=\"-1\" marginheight=\"0\" marginwidth=\"0\" hidefocus=\"true\" allowtransparency=\"true\" frameborder=\"no\" sandbox=\"allow-same-origin allow-popups allow-scripts allow-forms\"></iframe></div></div><div class=\"Brazzers__button\"></div></div><div class=\"Brazzers__page\"><div class=\"Brazzers__image-wrapper undefined\"><div class=\"LazyImage Brazzers__image undefined LazyImage_theme_default LazyImage_loaded LazyImage_visible\"><img class=\"LazyImage__image\" alt=\"2017 Skoda Octavia III (A7) Рестайлинг, чёрный, 1384000 рублей, вид 3\" srcset=\"//avatars.mds.yandex.net/get-autoru-vos/5088607/faabf6635b6815da844ebc010522d649/320x240\" src=\"//avatars.mds.yandex.net/get-autoru-vos/5088607/faabf6635b6815da844ebc010522d649/320x240\"></div></div><div class=\"Brazzers__button\"></div></div><div class=\"Brazzers__page\"><div class=\"Brazzers__image-wrapper undefined\"><div class=\"LazyImage Brazzers__image undefined LazyImage_theme_default LazyImage_loaded LazyImage_visible\"><img class=\"LazyImage__image\" alt=\"2017 Skoda Octavia III (A7) Рестайлинг, чёрный, 1384000 рублей, вид 4\" srcset=\"//avatars.mds.yandex.net/get-autoru-vos/5088607/77b843a2e041a61252f945312441920f/320x240\" src=\"//avatars.mds.yandex.net/get-autoru-vos/5088607/77b843a2e041a61252f945312441920f/320x240\"></div></div><div class=\"Brazzers__button\"></div></div><div class=\"Brazzers__page\"><div class=\"Brazzers__image-wrapper undefined\"><div class=\"LazyImage Brazzers__image undefined LazyImage_theme_default LazyImage_loaded LazyImage_visible\"><img class=\"LazyImage__image\" alt=\"2017 Skoda Octavia III (A7) Рестайлинг, чёрный, 1384000 рублей, вид 5\" srcset=\"//avatars.mds.yandex.net/get-autoru-vos/5309308/a7fd99f0fdad02bfd707c23f454c425a/320x240\" src=\"//avatars.mds.yandex.net/get-autoru-vos/5309308/a7fd99f0fdad02bfd707c23f454c425a/320x240\"></div><div class=\"BrazzersMore\"><div class=\"BrazzersMore__wrapper\"><div class=\"BrazzersMore__icon\"></div><div class=\"BrazzersMore__text\">Ещё 10 фото</div></div></div></div><div class=\"Brazzers__button\"></div></div></div></div></a></div><div class=\"ListingItem__description\"><div class=\"ListingItem__summary\"><h3 class=\"ListingItemTitle ListingItem__title\"><a class=\"Link ListingItemTitle__link\" href=\"https://auto.ru/cars/used/sale/skoda/octavia/1116434340-f7bb8687/\" target=\"_blank\">Skoda Octavia III (A7) Рестайлинг<div><div class=\"ListingItemTitle__clicker\"></div></div></a></h3><div class=\"ListingItemTechSummaryDesktop ListingItem__techSummary\"><div class=\"ListingItemTechSummaryDesktop__column\"><div class=\"ListingItemTechSummaryDesktop__cell\">1.8 л / 180&nbsp;л.с. / Бензин</div><div class=\"ListingItemTechSummaryDesktop__cell\">механика</div><div class=\"ListingItemTechSummaryDesktop__cell\">лифтбек</div></div><div class=\"ListingItemTechSummaryDesktop__column\"><div class=\"ListingItemTechSummaryDesktop__cell\">передний</div><div class=\"ListingItemTechSummaryDesktop__cell\">чёрный</div></div></div></div><div class=\"ListingItem__priceBlock\"><div class=\"InfoPopup InfoPopup_theme_plain InfoPopup_withChildren ListingItemPrice__pricePopup\"><div class=\"ListingItemPrice ListingItemPrice_withPopup ListingItem__price\"><div class=\"ListingItemPrice__content\"><a class=\"Link ListingItemPrice__link\" href=\"https://auto.ru/cars/used/sale/skoda/octavia/1116434340-f7bb8687/\" target=\"_blank\"><span>от 1&nbsp;214&nbsp;000&nbsp;₽</span></a></div></div><div class=\"Popup Popup_animation_opacity-only Popup-info \"></div></div><div class=\"ListingItemPrice ListingItem__price ListingItem__price_second\"><div class=\"ListingItemPrice__content\"><span>без скидок 1&nbsp;384&nbsp;000&nbsp;₽</span></div></div><div class=\"ListingItem__priceBadge\"></div><span class=\"Link CreditPrice CreditPrice_type_link\" tabindex=\"0\" role=\"button\"><span>от 12&nbsp;798&nbsp;₽ / мес.</span></span></div><div class=\"ListingItem__yearBlock\"><div class=\"ListingItem__year\">2017</div></div><div class=\"ListingItem__kmAgeAndActionsBlock\"><div class=\"ListingItem__kmAgeAndSalonInfo\"><div class=\"ListingItem__kmAge\">123&nbsp;723&nbsp;км</div><div class=\"InfoPopup InfoPopup_theme_plain InfoPopup_withChildren SalonVerifiedLabelWithPopup__popup\"><div class=\"SalonVerifiedLabelWithPopup SalonVerifiedLabelWithPopup_compact\"><svg class=\"IconSvg IconSvg_verified-dealer IconSvg_size_24 SalonVerifiedLabelWithPopup__icon\"><use xlink:href=\"#verified-dealer\"></use></svg><span>Проверенный дилер</span></div><div class=\"Popup Popup_animation_full Popup-info \"></div></div><a class=\"Link ListingItemSalonName ListingItem__salonName\" href=\"https://auto.ru/diler/cars/all/rolf_severo_zapad_avtomobili_s_probegom_moskva/?from=auto-snippet&amp;customs_state_group=DOESNT_MATTER\" target=\"_blank\">РОЛЬФ Северо-Запад | Автомобили с пробегом</a></div><div class=\"ListingItem__actionsContainer\"><div class=\"ListingItem__actions ListingItemActions\"><div class=\"Button Button_color_white Button_size_s Button_type_div Button_width_default Button_radius_r8 ButtonFavorite ButtonFavorite_size_s\" type=\"div\" role=\"button\"><span class=\"Button__content\"><span class=\"ButtonFavorite__content HoveredTooltip__trigger\"><div class=\"ButtonFavorite__content ButtonFavorite__content_align_center\"><svg class=\"IconSvg IconSvg_favorite-small IconSvg_size_24 ButtonFavorite__icon\"><use xlink:href=\"#favorite-small\"></use></svg></div></span></span></div><div class=\"Button Button_color_white Button_size_s Button_type_div Button_width_default ButtonCompare ButtonCompare_type_button ButtonCompare_size_s\" type=\"div\" role=\"button\"><span class=\"Button__content\"><span class=\"ButtonCompare__tooltip HoveredTooltip__trigger\"><svg class=\"IconSvg IconSvg_car-compare-small IconSvg_size_18 ButtonCompare__icon\"><use xlink:href=\"#car-compare-small\"></use></svg> </span></span></div><div class=\"Button Button_color_white Button_size_s Button_type_div Button_width_default ButtonNote ButtonNote_size_s\" type=\"div\" role=\"button\"><span class=\"Button__content\"><div class=\"ButtonNote__tooltip HoveredTooltip__trigger\"><svg class=\"IconSvg IconSvg_note-small IconSvg_size_24 ButtonNote__icon\"><use xlink:href=\"#note-small\"></use></svg></div></span></div><button class=\"Button Button_color_white Button_size_s Button_type_button Button_width_default ListingItemActions__rollup\" type=\"button\"><span class=\"Button__content\"><span class=\"ListingItemActions__iconWrapper HoveredTooltip__trigger\"><svg class=\"IconSvg IconSvg_close-small IconSvg_size_24 ListingItemActions__icon\"><use xlink:href=\"#close-small\"></use></svg></span></span></button></div></div></div><div class=\"ListingItem__tags\"><div class=\"ListingItemTagsDesktop\"><div class=\"InfoPopup InfoPopup_theme_plain InfoPopup_withChildren\"><div class=\"Badge Badge_color_blueGrayLightExtra Badge_size_xs Badge_padding_default BadgeDiscountDesktop ListingItemTagsDesktop__item\">Скидки</div><div class=\"Popup Popup_animation_full Popup-info \"></div></div><div class=\"InfoPopup InfoPopup_theme_plain InfoPopup_withChildren\"><div class=\"Badge Badge_color_blueGrayLightExtra Badge_size_xs Badge_padding_default BadgeVinReportDesktop ListingItemTagsDesktop__item\">Отчёт ПроАвто</div></div></div></div><div class=\"ListingItem__placeBlock\"><div class=\"ListingItem__additionalInfo\"><span class=\"MetroListPlace MetroListPlace_nowrap ListingItem__place\"><span class=\"MetroListPlace__regionName MetroListPlace_nbsp\">Москва</span><span class=\"MetroListPlace__content MetroListPlace_nbsp\">10&nbsp;часов назад</span></span></div></div><div class=\"ListingItem__controls\"><div class=\"ListingItem__certificate\"><div class=\"InfoPopup InfoPopup_theme_plain InfoPopup_withChildren\"><span class=\"ListingItemCertificateIcon\"><img alt=\"Rolf Warranty\" src=\"//auto.ru/_crpd/Z2NvZ5828/bdffe64F7/flmnOHkyeym8Z74eOo_w_iPbTQCZ4T9DSoybiI7vtZEsvC-DdwH4NOuAx20n3f-fIOBEmHnSRhFuAIuNs46oD0tp21RhX2PsuG-zc87-jdqH_yFMnfyKE2OI4-CGK1gprGCDA_fwUIgbuKttDt2m9-gZfHSJjqIJevx72DcaeBuucfvkVc6HqIDXEhPuJnVuywu1FFl022NG4D9sNnfERbRwXy8H-ChEH9wXHXsBOp-caKTU7WoGjd7QC2wLDmiHlgHw\" class=\"ListingItemCertificateIcon__image\"></span><div class=\"Popup Popup_animation_full Popup-info \"></div></div></div></div></div></div></div>\"\"\""
   ]
  },
  {
   "cell_type": "code",
   "execution_count": 97,
   "id": "2fe02f92",
   "metadata": {},
   "outputs": [
    {
     "data": {
      "text/plain": [
       "1384000.0"
      ]
     },
     "execution_count": 97,
     "metadata": {},
     "output_type": "execute_result"
    }
   ],
   "source": [
    "float(soup.select('.ListingItemPrice__content')[1].get_text().replace('\\xa0', '').replace('без скидок ', '')[:-1])"
   ]
  },
  {
   "cell_type": "code",
   "execution_count": 109,
   "id": "1c2d3add",
   "metadata": {},
   "outputs": [
    {
     "data": {
      "text/plain": [
       "'BMW X5 30d IV (G05)'"
      ]
     },
     "execution_count": 109,
     "metadata": {},
     "output_type": "execute_result"
    }
   ],
   "source": [
    "offer.select_one('a').get_text()"
   ]
  },
  {
   "cell_type": "code",
   "execution_count": 113,
   "id": "075c6746",
   "metadata": {},
   "outputs": [
    {
     "data": {
      "text/plain": [
       "2020"
      ]
     },
     "execution_count": 113,
     "metadata": {},
     "output_type": "execute_result"
    }
   ],
   "source": [
    "int(offer.select_one('div[class=ListingItem__year]').get_text())"
   ]
  },
  {
   "cell_type": "code",
   "execution_count": 116,
   "id": "6deeec07",
   "metadata": {},
   "outputs": [
    {
     "data": {
      "text/plain": [
       "'Красноярск'"
      ]
     },
     "execution_count": 116,
     "metadata": {},
     "output_type": "execute_result"
    }
   ],
   "source": [
    "offer.select_one('span[class*=regionName]').get_text()"
   ]
  },
  {
   "cell_type": "code",
   "execution_count": null,
   "id": "875c5a02",
   "metadata": {},
   "outputs": [],
   "source": [
    "offer.select_one('a')['href']"
   ]
  },
  {
   "cell_type": "code",
   "execution_count": 129,
   "id": "f196c014",
   "metadata": {},
   "outputs": [
    {
     "data": {
      "text/plain": [
       "[]"
      ]
     },
     "execution_count": 129,
     "metadata": {},
     "output_type": "execute_result"
    }
   ],
   "source": [
    "offer.select('div[class*=vas-icon-top-small]')"
   ]
  },
  {
   "cell_type": "code",
   "execution_count": 156,
   "id": "ac827d29",
   "metadata": {},
   "outputs": [
    {
     "data": {
      "text/plain": [
       "['3.0 л\\u2009/\\u2009249\\xa0л.с.\\u2009/\\u2009Дизель',\n",
       " 'автомат',\n",
       " 'внедорожник 5 дв.',\n",
       " 'полный',\n",
       " 'чёрный']"
      ]
     },
     "execution_count": 156,
     "metadata": {},
     "output_type": "execute_result"
    }
   ],
   "source": [
    "main_params = offer.select_one('div[class=ListingItem__summary] :nth-child(2)').get_text(', ').split(', ')\n",
    "main_params"
   ]
  },
  {
   "cell_type": "code",
   "execution_count": 176,
   "id": "aea4ed5f",
   "metadata": {},
   "outputs": [
    {
     "data": {
      "text/plain": [
       "['3.0 л', '249л.с.', 'Дизель']"
      ]
     },
     "execution_count": 176,
     "metadata": {},
     "output_type": "execute_result"
    }
   ],
   "source": [
    "main_params[0].replace('\\u2009', '').replace('\\xa0', '').split('/')"
   ]
  },
  {
   "cell_type": "code",
   "execution_count": 186,
   "id": "ddfe8c05",
   "metadata": {},
   "outputs": [
    {
     "data": {
      "text/plain": [
       "(6000.0, 3.0, 249.0, 'внедорожник 5 дв.', 'полный', 'Дизель', 'автомат')"
      ]
     },
     "execution_count": 186,
     "metadata": {},
     "output_type": "execute_result"
    }
   ],
   "source": [
    "mileage = offer.select_one('div[class=ListingItem__kmAge]').get_text()\n",
    "if mileage == 'Новый':\n",
    "    mileage = 0\n",
    "else:\n",
    "    mileage = float(mileage.replace('\\xa0', '')[:-2])\n",
    "\n",
    "engine_horse_fuel = main_params[0].replace('\\u2009', '').replace('\\xa0', '').split('/')\n",
    "engine_capacity = float(engine_horse_fuel[0][:-2])\n",
    "horsepower = float(engine_horse_fuel[1][:-4])\n",
    "engine_type = engine_horse_fuel[2]\n",
    "\n",
    "transmission = main_params[1]\n",
    "body_type = main_params[2]\n",
    "drive_type = main_params[3]\n",
    "\n",
    "mileage, engine_capacity, horsepower, body_type, drive_type, engine_type, transmission"
   ]
  },
  {
   "cell_type": "code",
   "execution_count": 211,
   "id": "61f7fb74",
   "metadata": {},
   "outputs": [],
   "source": [
    "logger = MarketplaceLogger()"
   ]
  },
  {
   "cell_type": "code",
   "execution_count": 236,
   "id": "cd1ab883",
   "metadata": {},
   "outputs": [],
   "source": [
    "auto = Auto('Auto', url_to_parse, 1, logger)"
   ]
  },
  {
   "cell_type": "code",
   "execution_count": 237,
   "id": "98e62372",
   "metadata": {},
   "outputs": [],
   "source": [
    "auto.parse_all_pages()"
   ]
  },
  {
   "cell_type": "code",
   "execution_count": 230,
   "id": "f4cacc36",
   "metadata": {},
   "outputs": [],
   "source": [
    "offer = bs(offer_with_discount, 'html.parser')"
   ]
  },
  {
   "cell_type": "code",
   "execution_count": 231,
   "id": "23e3f97d",
   "metadata": {},
   "outputs": [
    {
     "data": {
      "text/plain": [
       "['от 1\\xa0214\\xa0000\\xa0₽', 'без скидок 1\\xa0384\\xa0000\\xa0₽']"
      ]
     },
     "execution_count": 231,
     "metadata": {},
     "output_type": "execute_result"
    }
   ],
   "source": [
    "list(map(lambda price: price.get_text(), offer.select('.ListingItemPrice__content')))"
   ]
  },
  {
   "cell_type": "code",
   "execution_count": 233,
   "id": "ea1ac8e6",
   "metadata": {},
   "outputs": [
    {
     "data": {
      "text/plain": [
       "{'price': 1384000.0,\n",
       " 'name': 'Ещё 10 фото',\n",
       " 'year': 2017,\n",
       " 'mileage': 123723.0,\n",
       " 'engine_capacity': 3.0,\n",
       " 'horsepower': 249.0,\n",
       " 'body_type': 'внедорожник 5 дв.',\n",
       " 'drive_type': 'полный',\n",
       " 'engine_type': 'Дизель',\n",
       " 'transmission': 'автомат',\n",
       " 'offer_location': 'Москва',\n",
       " 'is_offer_vip': True,\n",
       " 'offer_url': 'https://auto.ru/cars/used/sale/skoda/octavia/1116434340-f7bb8687/',\n",
       " 'marketplace': 'Auto',\n",
       " 'scraping_time': datetime.date(2022, 8, 26)}"
      ]
     },
     "execution_count": 233,
     "metadata": {},
     "output_type": "execute_result"
    }
   ],
   "source": [
    "auto.parse_offer(offer)"
   ]
  },
  {
   "cell_type": "code",
   "execution_count": null,
   "id": "eedd7cae",
   "metadata": {},
   "outputs": [],
   "source": []
  }
 ],
 "metadata": {
  "kernelspec": {
   "display_name": "env_kernel",
   "language": "python",
   "name": "env_kernel"
  },
  "language_info": {
   "codemirror_mode": {
    "name": "ipython",
    "version": 3
   },
   "file_extension": ".py",
   "mimetype": "text/x-python",
   "name": "python",
   "nbconvert_exporter": "python",
   "pygments_lexer": "ipython3",
   "version": "3.10.5"
  }
 },
 "nbformat": 4,
 "nbformat_minor": 5
}
