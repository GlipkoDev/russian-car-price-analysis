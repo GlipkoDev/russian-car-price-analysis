{
 "cells": [
  {
   "cell_type": "code",
   "execution_count": 2,
   "id": "c5fb2ef3",
   "metadata": {},
   "outputs": [],
   "source": [
    "import requests\n",
    "from bs4 import BeautifulSoup as bs\n",
    "\n",
    "from marketplaces.marketplace import Drom\n",
    "from marketplaces.market_logger import MarketplaceLogger"
   ]
  },
  {
   "cell_type": "code",
   "execution_count": 3,
   "id": "580361ee",
   "metadata": {},
   "outputs": [],
   "source": [
    "url_to_parse = 'https://auto.drom.ru/all/page2/'"
   ]
  },
  {
   "cell_type": "code",
   "execution_count": 6,
   "id": "f897af01",
   "metadata": {},
   "outputs": [],
   "source": [
    "response = requests.get(url_to_parse)"
   ]
  },
  {
   "cell_type": "code",
   "execution_count": 7,
   "id": "1053c024",
   "metadata": {},
   "outputs": [
    {
     "data": {
      "text/plain": [
       "200"
      ]
     },
     "execution_count": 7,
     "metadata": {},
     "output_type": "execute_result"
    }
   ],
   "source": [
    "response.status_code"
   ]
  },
  {
   "cell_type": "code",
   "execution_count": 8,
   "id": "9cbbe3d7",
   "metadata": {},
   "outputs": [],
   "source": [
    "soup = bs(response.content, 'html.parser')"
   ]
  },
  {
   "cell_type": "code",
   "execution_count": 9,
   "id": "176f7b46",
   "metadata": {},
   "outputs": [],
   "source": [
    "offers = soup.select('a[data-ftid=bulls-list_bull]')"
   ]
  },
  {
   "cell_type": "code",
   "execution_count": 10,
   "id": "2d176c1c",
   "metadata": {},
   "outputs": [
    {
     "data": {
      "text/plain": [
       "20"
      ]
     },
     "execution_count": 10,
     "metadata": {},
     "output_type": "execute_result"
    }
   ],
   "source": [
    "len(offers)"
   ]
  },
  {
   "cell_type": "code",
   "execution_count": 41,
   "id": "bb44b826",
   "metadata": {},
   "outputs": [],
   "source": [
    "offer = offers[0]"
   ]
  },
  {
   "cell_type": "code",
   "execution_count": 16,
   "id": "d34f7a95",
   "metadata": {},
   "outputs": [
    {
     "data": {
      "text/plain": [
       "920000.0"
      ]
     },
     "execution_count": 16,
     "metadata": {},
     "output_type": "execute_result"
    }
   ],
   "source": [
    "price = float(offer.select_one('span[data-ftid=bull_price]').get_text().replace('\\xa0', ''))\n",
    "price"
   ]
  },
  {
   "cell_type": "code",
   "execution_count": 23,
   "id": "4f50b81a",
   "metadata": {},
   "outputs": [
    {
     "data": {
      "text/plain": [
       "('Лада Х-рей Кросс', 2019)"
      ]
     },
     "execution_count": 23,
     "metadata": {},
     "output_type": "execute_result"
    }
   ],
   "source": [
    "title = offer.select_one('span[data-ftid=bull_title]').get_text().split(', ')\n",
    "title[0], int(title[1])"
   ]
  },
  {
   "cell_type": "code",
   "execution_count": 24,
   "id": "5188594e",
   "metadata": {},
   "outputs": [
    {
     "data": {
      "text/plain": [
       "['Лада Х-рей Кросс', '2019']"
      ]
     },
     "execution_count": 24,
     "metadata": {},
     "output_type": "execute_result"
    }
   ],
   "source": [
    "title"
   ]
  },
  {
   "cell_type": "code",
   "execution_count": 31,
   "id": "525a3f17",
   "metadata": {},
   "outputs": [
    {
     "data": {
      "text/plain": [
       "['1.8 л (122 л.с.)', 'бензин', 'механика', 'передний', '46 тыс. км']"
      ]
     },
     "execution_count": 31,
     "metadata": {},
     "output_type": "execute_result"
    }
   ],
   "source": [
    "main_params = offer.select_one('div[data-ftid=\"component_inline-bull-description\"]').get_text().split(', ')\n",
    "main_params"
   ]
  },
  {
   "cell_type": "code",
   "execution_count": 52,
   "id": "c67f9912",
   "metadata": {},
   "outputs": [
    {
     "data": {
      "text/plain": [
       "(46000.0, 1.8, 122.0, None, 'передний', 'бензин', 'механика')"
      ]
     },
     "execution_count": 52,
     "metadata": {},
     "output_type": "execute_result"
    }
   ],
   "source": [
    "engine_horse = main_params[0].split(' ')\n",
    "engine_capacity = float(engine_horse[0])\n",
    "horsepower = float(engine_horse[2][1:])\n",
    "\n",
    "\n",
    "engine_type = main_params[1]\n",
    "\n",
    "is_new = offer.select_one('div[data-ftid*=bull_label_new]')                           \n",
    "if is_new:\n",
    "    mileage = 0\n",
    "else:\n",
    "    mileage = float(main_params[4].replace(' тыс. км', '') + '000')\n",
    "    \n",
    "drive_type = main_params[3]\n",
    "transmission = main_params[2]\n",
    "              \n",
    "body_type = None\n",
    "                          \n",
    "mileage, engine_capacity, horsepower, body_type, drive_type, engine_type, transmission"
   ]
  },
  {
   "cell_type": "code",
   "execution_count": 53,
   "id": "ac2a093c",
   "metadata": {},
   "outputs": [
    {
     "data": {
      "text/plain": [
       "'https://novosibirsk.drom.ru/lada/xray_cross/46398767.html'"
      ]
     },
     "execution_count": 53,
     "metadata": {},
     "output_type": "execute_result"
    }
   ],
   "source": [
    "offer['href']"
   ]
  },
  {
   "cell_type": "code",
   "execution_count": 55,
   "id": "a3ac6ec3",
   "metadata": {},
   "outputs": [
    {
     "data": {
      "text/plain": [
       "'Новосибирск'"
      ]
     },
     "execution_count": 55,
     "metadata": {},
     "output_type": "execute_result"
    }
   ],
   "source": [
    "offer.select_one('span[data-ftid=bull_location]').get_text()"
   ]
  },
  {
   "cell_type": "code",
   "execution_count": 4,
   "id": "3c7e553c",
   "metadata": {},
   "outputs": [],
   "source": [
    "logger = MarketplaceLogger()"
   ]
  },
  {
   "cell_type": "code",
   "execution_count": 5,
   "id": "d97018d2",
   "metadata": {},
   "outputs": [],
   "source": [
    "drom = Drom('Drom', 'https://auto.drom.ru/all/page2/', 1, logger)"
   ]
  },
  {
   "cell_type": "code",
   "execution_count": 6,
   "id": "cf8c61a5",
   "metadata": {},
   "outputs": [],
   "source": [
    "drom.parse_all_pages()"
   ]
  }
 ],
 "metadata": {
  "kernelspec": {
   "display_name": "env_kernel",
   "language": "python",
   "name": "env_kernel"
  },
  "language_info": {
   "codemirror_mode": {
    "name": "ipython",
    "version": 3
   },
   "file_extension": ".py",
   "mimetype": "text/x-python",
   "name": "python",
   "nbconvert_exporter": "python",
   "pygments_lexer": "ipython3",
   "version": "3.10.5"
  }
 },
 "nbformat": 4,
 "nbformat_minor": 5
}
