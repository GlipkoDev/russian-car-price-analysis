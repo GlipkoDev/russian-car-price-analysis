{
 "cells": [
  {
   "cell_type": "code",
   "execution_count": 1,
   "id": "8ef19dd7",
   "metadata": {},
   "outputs": [],
   "source": [
    "import os, sys\n",
    "dir2 = os.path.abspath('')\n",
    "dir1 = os.path.dirname(dir2)\n",
    "if not dir1 in sys.path: sys.path.append(dir1)\n",
    "    \n",
    "from marketplaces.avito import Avito"
   ]
  },
  {
   "cell_type": "code",
   "execution_count": 2,
   "id": "d2b5cf2d",
   "metadata": {},
   "outputs": [],
   "source": [
    "avito = Avito('Avito', 'https://www.avito.ru/rossiya/avtomobili?p={}')"
   ]
  },
  {
   "cell_type": "code",
   "execution_count": 3,
   "id": "015b0aad",
   "metadata": {},
   "outputs": [],
   "source": [
    "avito.parse_page(1)"
   ]
  },
  {
   "cell_type": "code",
   "execution_count": null,
   "id": "e7720507",
   "metadata": {},
   "outputs": [],
   "source": []
  }
 ],
 "metadata": {
  "kernelspec": {
   "display_name": "env_kernel",
   "language": "python",
   "name": "env_kernel"
  },
  "language_info": {
   "codemirror_mode": {
    "name": "ipython",
    "version": 3
   },
   "file_extension": ".py",
   "mimetype": "text/x-python",
   "name": "python",
   "nbconvert_exporter": "python",
   "pygments_lexer": "ipython3",
   "version": "3.10.5"
  }
 },
 "nbformat": 4,
 "nbformat_minor": 5
}
