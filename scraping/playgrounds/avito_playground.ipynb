{
 "cells": [
  {
   "cell_type": "code",
   "execution_count": 1,
   "id": "8ef19dd7",
   "metadata": {},
   "outputs": [],
   "source": [
    "from bs4 import BeautifulSoup as bs\n",
    "import requests\n",
    "from IPython.core.debugger import set_trace\n",
    "\n",
    "import ssl\n",
    "\n",
    "from requests.adapters import HTTPAdapter\n",
    "from requests.packages.urllib3.poolmanager import PoolManager\n",
    "from requests.packages.urllib3.util import ssl_"
   ]
  },
  {
   "cell_type": "code",
   "execution_count": 2,
   "id": "5f008ee3",
   "metadata": {},
   "outputs": [],
   "source": [
    "import os, sys\n",
    "dir2 = os.path.abspath('')\n",
    "dir1 = os.path.dirname(dir2)\n",
    "if not dir1 in sys.path: sys.path.append(dir1)\n",
    "    \n",
    "from marketplaces.avito import Marketplace"
   ]
  },
  {
   "cell_type": "code",
   "execution_count": 33,
   "id": "e68762a3",
   "metadata": {},
   "outputs": [],
   "source": [
    "class Avito(Marketplace):\n",
    "    \n",
    "    def __init__(self, marketplace_name, url_to_parse):\n",
    "        super().__init__(marketplace_name, url_to_parse)\n",
    "        \n",
    "    def get_offers_on_page(self, page):\n",
    "        return page.select('*[itemtype=\"http://schema.org/Product\"]')\n",
    "    \n",
    "    def get_price(self, offer):\n",
    "        # 2 Possibilities:\n",
    "        # First: price-text (contains min price) and price-noaccent (price withous discount),\n",
    "        # Second: just price-text (price withous discount)\n",
    "        # For start I check the first case, then the second one\n",
    "        without_discount_price = offer.select_one('span[class*=price-noaccent]')\n",
    "        if without_discount_price:\n",
    "            return float(without_discount_price.get_text().replace('\\xa0', '').replace(' ₽ без скидки', ''))\n",
    "        else:\n",
    "            return float(offer.select_one('[class*=price-text]').get_text().replace('\\xa0', '')[:-1])\n",
    "    \n",
    "    # Title has car's name and year, so I save it inside object to use in future (get_name called before get_year)\n",
    "    def get_name(self, offer):\n",
    "        self.title = offer.select_one('div[class*=title]').get_text().split(', ')\n",
    "        return self.title[0]\n",
    "    \n",
    "    def get_year(self, offer):\n",
    "        return int(self.title[1])\n",
    "    \n",
    "    # Same situation as with name and year in a title, but now 5 params are in the same block (get_mileage called first)\n",
    "    def get_mileage(self, offer):\n",
    "        car_params = offer.select_one('div[class*=autoParams]')\n",
    "\n",
    "        # If offer is vip, then additional info is on the upper line and separated from main params with <br>,\n",
    "        # because vip offers stand together in a row of three\n",
    "        # Otherwise, if offer is not vip, it have its own line, \n",
    "        # and extra info is in the same line with main params divided by ', '\n",
    "        for line_break in offer.findAll('br'):     \n",
    "            line_break.replaceWith(', ')\n",
    "\n",
    "        car_params = car_params.get_text().replace('\\xa0', '').split(', ')\n",
    "        self.car_params = car_params[-5:]\n",
    "\n",
    "        snippets = offer.select_one('div[class*=SnippetBar]')\n",
    "        is_new = False\n",
    "        if snippets:\n",
    "            snippets = snippets.get_text()\n",
    "            is_new = 'Новый' in snippets\n",
    "        return 0 if is_new else float(self.car_params[-5][:-2])\n",
    "    \n",
    "    # Same situation: modification_info will be used in get_horsepower (get_engine_capacity called before get_horsepower)\n",
    "    def get_engine_capacity(self, offer):         \n",
    "        modification = self.car_params[-4]\n",
    "        self.modification_info = modification.split(' ')\n",
    "        return float(self.modification_info[0])\n",
    "    \n",
    "    def get_horsepower(self, offer):\n",
    "        return float(self.modification_info[2][1:-5]) # remove brackets and postfix 'л.с.'\n",
    "\n",
    "    def get_body_type(self, offer):\n",
    "        return self.car_params[-3]\n",
    "    \n",
    "    def get_drive_type(self, offer):\n",
    "        return self.car_params[-2]\n",
    "    \n",
    "    def get_engine_type(self, offer):\n",
    "        return self.car_params[-1]\n",
    "\n",
    "    def get_transmission(self, offer):\n",
    "        return None\n",
    "    \n",
    "    def get_offer_location(self, offer):\n",
    "        return offer.select_one('div[class*=geo]').get_text()\n",
    "    \n",
    "    def is_offer_vip(self, offer):\n",
    "        return 'items-vip' in offer.parent['class'][0]\n",
    "    \n",
    "    def get_offer_url(self, offer):\n",
    "        return 'https://avito.ru/' + offer.select_one('a[data-marker=item-title]')['href']"
   ]
  },
  {
   "cell_type": "code",
   "execution_count": 34,
   "id": "4bd57c46",
   "metadata": {},
   "outputs": [],
   "source": [
    "avito = Avito('Avito', None)"
   ]
  },
  {
   "cell_type": "code",
   "execution_count": 5,
   "id": "3ca4d6ec",
   "metadata": {},
   "outputs": [],
   "source": [
    "import ssl\n",
    "import requests\n",
    "\n",
    "from requests.adapters import HTTPAdapter\n",
    "from requests.packages.urllib3.poolmanager import PoolManager\n",
    "from requests.packages.urllib3.util import ssl_\n",
    "\n",
    "CIPHERS = \"\"\"ECDHE-RSA-AES256-GCM-SHA384:ECDHE-ECDSA-AES256-GCM-SHA384:ECDHE-RSA-AES256-SHA384:ECDHE-ECDSA-AES256-SHA384:ECDHE-RSA-AES128-GCM-SHA256:ECDHE-RSA-AES128-SHA256:AES256-SHA\"\"\"\n",
    "\n",
    "class TlsAdapter(HTTPAdapter):\n",
    "\n",
    "    def __init__(self, ssl_options=0, **kwargs):\n",
    "        self.ssl_options = ssl_options\n",
    "        super(TlsAdapter, self).__init__(**kwargs)\n",
    "\n",
    "    def init_poolmanager(self, *pool_args, **pool_kwargs):\n",
    "        ctx = ssl_.create_urllib3_context(ciphers=CIPHERS, cert_reqs=ssl.CERT_REQUIRED, options=self.ssl_options)\n",
    "        self.poolmanager = PoolManager(*pool_args, ssl_context=ctx, **pool_kwargs)\n",
    "\n",
    "session = requests.session()\n",
    "adapter = TlsAdapter(ssl.OP_NO_TLSv1 | ssl.OP_NO_TLSv1_1)\n",
    "session.mount(\"https://\", adapter)"
   ]
  },
  {
   "cell_type": "code",
   "execution_count": 27,
   "id": "e7720507",
   "metadata": {},
   "outputs": [],
   "source": [
    "response = session.get('https://www.avito.ru/novosibirsk/avtomobili?radius=200')"
   ]
  },
  {
   "cell_type": "code",
   "execution_count": 28,
   "id": "8cf0a8c9",
   "metadata": {},
   "outputs": [
    {
     "data": {
      "text/plain": [
       "200"
      ]
     },
     "execution_count": 28,
     "metadata": {},
     "output_type": "execute_result"
    }
   ],
   "source": [
    "response.status_code"
   ]
  },
  {
   "cell_type": "code",
   "execution_count": 29,
   "id": "4fb979a3",
   "metadata": {},
   "outputs": [],
   "source": [
    "page = bs(response.content, 'html.parser')"
   ]
  },
  {
   "cell_type": "code",
   "execution_count": 30,
   "id": "92fb1455",
   "metadata": {},
   "outputs": [
    {
     "data": {
      "text/plain": [
       "56"
      ]
     },
     "execution_count": 30,
     "metadata": {},
     "output_type": "execute_result"
    }
   ],
   "source": [
    "offers = avito.get_offers_on_page(page)\n",
    "len(offers)"
   ]
  },
  {
   "cell_type": "code",
   "execution_count": 37,
   "id": "7c6d10c4",
   "metadata": {},
   "outputs": [],
   "source": [
    "for i, offer in enumerate(offers):\n",
    "    car_info = avito.parse_offer(offer)\n",
    "    if not car_info:\n",
    "        print('check log files '+str(i))"
   ]
  },
  {
   "cell_type": "code",
   "execution_count": null,
   "id": "2966d6aa",
   "metadata": {},
   "outputs": [],
   "source": []
  }
 ],
 "metadata": {
  "kernelspec": {
   "display_name": "env_kernel",
   "language": "python",
   "name": "env_kernel"
  },
  "language_info": {
   "codemirror_mode": {
    "name": "ipython",
    "version": 3
   },
   "file_extension": ".py",
   "mimetype": "text/x-python",
   "name": "python",
   "nbconvert_exporter": "python",
   "pygments_lexer": "ipython3",
   "version": "3.10.5"
  }
 },
 "nbformat": 4,
 "nbformat_minor": 5
}
