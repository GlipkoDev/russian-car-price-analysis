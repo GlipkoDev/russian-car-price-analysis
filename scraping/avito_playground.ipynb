{
 "cells": [
  {
   "cell_type": "code",
   "execution_count": 60,
   "id": "9aba204f",
   "metadata": {},
   "outputs": [],
   "source": [
    "from marketplaces.avito import Avito"
   ]
  },
  {
   "cell_type": "code",
   "execution_count": 61,
   "id": "d8a34038",
   "metadata": {},
   "outputs": [],
   "source": [
    "avito = Avito('Avito', 'https://www.avito.ru/rossiya/avtomobili?p={}', 3)"
   ]
  },
  {
   "cell_type": "code",
   "execution_count": 62,
   "id": "bac07d70",
   "metadata": {},
   "outputs": [
    {
     "ename": "Exception",
     "evalue": "Response code differs from 200: 429",
     "output_type": "error",
     "traceback": [
      "\u001b[1;31m---------------------------------------------------------------------------\u001b[0m",
      "\u001b[1;31mException\u001b[0m                                 Traceback (most recent call last)",
      "Input \u001b[1;32mIn [62]\u001b[0m, in \u001b[0;36m<cell line: 1>\u001b[1;34m()\u001b[0m\n\u001b[1;32m----> 1\u001b[0m avito\u001b[38;5;241m.\u001b[39mparse_page(\u001b[43mavito\u001b[49m\u001b[38;5;241;43m.\u001b[39;49m\u001b[43mget_page\u001b[49m\u001b[43m(\u001b[49m\u001b[38;5;241;43m1\u001b[39;49m\u001b[43m)\u001b[49m)\n",
      "File \u001b[1;32m~\\Desktop\\russian-car-price_analysis\\scraping\\marketplaces\\marketplace.py:61\u001b[0m, in \u001b[0;36mMarketplace.get_page\u001b[1;34m(self, page_num)\u001b[0m\n\u001b[0;32m     59\u001b[0m     \u001b[38;5;28;01mreturn\u001b[39;00m response\u001b[38;5;241m.\u001b[39mcontent\n\u001b[0;32m     60\u001b[0m \u001b[38;5;28;01melse\u001b[39;00m:\n\u001b[1;32m---> 61\u001b[0m     \u001b[38;5;28;01mraise\u001b[39;00m \u001b[38;5;167;01mException\u001b[39;00m(\u001b[38;5;124mf\u001b[39m\u001b[38;5;124m'\u001b[39m\u001b[38;5;124mResponse code differs from 200: \u001b[39m\u001b[38;5;132;01m{\u001b[39;00mresponse\u001b[38;5;241m.\u001b[39mstatus_code\u001b[38;5;132;01m}\u001b[39;00m\u001b[38;5;124m'\u001b[39m)\n",
      "\u001b[1;31mException\u001b[0m: Response code differs from 200: 429"
     ]
    }
   ],
   "source": [
    "avito.parse_page(avito.get_page(1))"
   ]
  },
  {
   "cell_type": "code",
   "execution_count": 10,
   "id": "4789930d",
   "metadata": {},
   "outputs": [],
   "source": [
    "from bs4 import BeautifulSoup as bs\n",
    "from os import listdir"
   ]
  },
  {
   "cell_type": "code",
   "execution_count": 11,
   "id": "d098ccdc",
   "metadata": {},
   "outputs": [
    {
     "data": {
      "text/plain": [
       "['Avito_040e1bd6-c6d7-44b8-8e91-535a285dff65.txt',\n",
       " 'Avito_19fce860-6993-41c9-aed6-7aaeb6aaac48.txt',\n",
       " 'Avito_20186c54-0c2e-46a2-9970-73190e466f05.txt',\n",
       " 'Avito_21ab381a-44cd-4f51-a963-d4272aeff3c1.txt',\n",
       " 'Avito_3016a74c-485a-454a-b9cf-cc5d2c19dc2e.txt',\n",
       " 'Avito_329f894b-2886-4134-8ad6-2ce519a23c8a.txt',\n",
       " 'Avito_526117a8-230e-4b01-b05d-c507aaf7a1fe.txt',\n",
       " 'Avito_6b7a3619-59df-409e-91ee-3b7450b15d37.txt',\n",
       " 'Avito_7a938c03-e4be-4070-8453-b6389ca88098.txt',\n",
       " 'Avito_89058778-366c-4ea0-a342-05dd1c4d3062.txt',\n",
       " 'Avito_8df786d6-e4ae-47e5-ae6b-2ad511de2273.txt',\n",
       " 'Avito_929c04d3-d50a-4bdb-8105-0a9f26240c4c.txt',\n",
       " 'Avito_a2634796-bde4-4857-a22a-46ad4122261c.txt',\n",
       " 'Avito_c7040e16-dc60-422a-bd54-77f3d858ba39.txt',\n",
       " 'Avito_c766196f-8522-4e6c-b463-7bb052b3bc73.txt',\n",
       " 'Avito_f895d4a2-d7e9-42d4-b0b9-779170249aa6.txt']"
      ]
     },
     "execution_count": 11,
     "metadata": {},
     "output_type": "execute_result"
    }
   ],
   "source": [
    "listdir(avito.broken_offers_subfolder)"
   ]
  },
  {
   "cell_type": "code",
   "execution_count": 12,
   "id": "7af50147",
   "metadata": {},
   "outputs": [],
   "source": [
    "offers = []\n",
    "for file_name in listdir(avito.broken_offers_subfolder):\n",
    "    with open(f'{avito.broken_offers_subfolder}/{file_name}', 'r', encoding='utf-8') as f:\n",
    "        offers.append(bs(f.read()))"
   ]
  },
  {
   "cell_type": "code",
   "execution_count": null,
   "id": "f08fe45c",
   "metadata": {},
   "outputs": [],
   "source": []
  }
 ],
 "metadata": {
  "kernelspec": {
   "display_name": "env_kernel",
   "language": "python",
   "name": "env_kernel"
  },
  "language_info": {
   "codemirror_mode": {
    "name": "ipython",
    "version": 3
   },
   "file_extension": ".py",
   "mimetype": "text/x-python",
   "name": "python",
   "nbconvert_exporter": "python",
   "pygments_lexer": "ipython3",
   "version": "3.10.5"
  }
 },
 "nbformat": 4,
 "nbformat_minor": 5
}
