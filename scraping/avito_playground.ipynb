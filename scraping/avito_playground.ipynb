{
 "cells": [
  {
   "cell_type": "code",
   "execution_count": 1,
   "id": "9aba204f",
   "metadata": {},
   "outputs": [],
   "source": [
    "from marketplaces.avito import Avito\n",
    "from marketplaces.market_logger import MarketplaceLogger"
   ]
  },
  {
   "cell_type": "code",
   "execution_count": 2,
   "id": "d8a34038",
   "metadata": {},
   "outputs": [],
   "source": [
    "logger = MarketplaceLogger()"
   ]
  },
  {
   "cell_type": "code",
   "execution_count": 3,
   "id": "b19bb86e",
   "metadata": {},
   "outputs": [],
   "source": [
    "avito = Avito('Avito', 'https://www.avito.ru/rossiya/avtomobili?p={}', 2, logger)"
   ]
  },
  {
   "cell_type": "code",
   "execution_count": 4,
   "id": "bac07d70",
   "metadata": {},
   "outputs": [],
   "source": [
    "avito.parse_all_pages()"
   ]
  },
  {
   "cell_type": "code",
   "execution_count": null,
   "id": "4789930d",
   "metadata": {},
   "outputs": [],
   "source": [
    "from bs4 import BeautifulSoup as bs\n",
    "from os import listdir"
   ]
  },
  {
   "cell_type": "code",
   "execution_count": 12,
   "id": "7af50147",
   "metadata": {},
   "outputs": [],
   "source": [
    "offers = []\n",
    "for file_name in listdir(f'{logger.current_date}/broken_offers'):\n",
    "    with open(f'{avito.broken_offers_subfolder}/{file_name}', 'r', encoding='utf-8') as f:\n",
    "        offers.append(bs(f.read()))"
   ]
  },
  {
   "cell_type": "code",
   "execution_count": null,
   "id": "785d5320",
   "metadata": {},
   "outputs": [],
   "source": []
  }
 ],
 "metadata": {
  "kernelspec": {
   "display_name": "env_kernel",
   "language": "python",
   "name": "env_kernel"
  },
  "language_info": {
   "codemirror_mode": {
    "name": "ipython",
    "version": 3
   },
   "file_extension": ".py",
   "mimetype": "text/x-python",
   "name": "python",
   "nbconvert_exporter": "python",
   "pygments_lexer": "ipython3",
   "version": "3.10.5"
  }
 },
 "nbformat": 4,
 "nbformat_minor": 5
}
