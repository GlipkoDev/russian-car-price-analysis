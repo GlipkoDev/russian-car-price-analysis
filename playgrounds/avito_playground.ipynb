{
 "cells": [
  {
   "cell_type": "code",
   "execution_count": 209,
   "id": "44680fab",
   "metadata": {},
   "outputs": [],
   "source": [
    "import requests\n",
    "from bs4 import BeautifulSoup as bs\n",
    "\n",
    "import ssl\n",
    "from requests.adapters import HTTPAdapter\n",
    "from requests.packages.urllib3.poolmanager import PoolManager\n",
    "from requests.packages.urllib3.util import ssl_\n",
    "\n",
    "from dataclasses import dataclass"
   ]
  },
  {
   "cell_type": "code",
   "execution_count": 210,
   "id": "52ddcf00",
   "metadata": {},
   "outputs": [],
   "source": [
    "base_url = 'https://www.avito.ru'\n",
    "russian_cars = '/rossiya/avtomobili'"
   ]
  },
  {
   "cell_type": "code",
   "execution_count": 211,
   "id": "3c00ac97",
   "metadata": {},
   "outputs": [],
   "source": [
    "@dataclass\n",
    "class Car:\n",
    "    \n",
    "    price : float\n",
    "        \n",
    "    brand_model : str\n",
    "    year : int\n",
    "    mileage : float\n",
    "    engine_capacity : float\n",
    "    horsepower : float\n",
    "    body_type : str\n",
    "    drive_type : str\n",
    "    transmission : str\n",
    "    engine_type : str\n",
    "        \n",
    "    is_offer_vip : bool\n",
    "    offer_location: str\n",
    "        \n",
    "    offer_url : str"
   ]
  },
  {
   "cell_type": "code",
   "execution_count": 212,
   "id": "05f4876d",
   "metadata": {},
   "outputs": [],
   "source": [
    "CIPHERS = \"\"\"ECDHE-RSA-AES256-GCM-SHA384:ECDHE-ECDSA-AES256-GCM-SHA384:ECDHE-RSA-AES256-SHA384:ECDHE-ECDSA-AES256-SHA384:ECDHE-RSA-AES128-GCM-SHA256:ECDHE-RSA-AES128-SHA256:AES256-SHA\"\"\"\n",
    "\n",
    "class TlsAdapter(HTTPAdapter):\n",
    "\n",
    "    def __init__(self, ssl_options=0, **kwargs):\n",
    "        self.ssl_options = ssl_options\n",
    "        super(TlsAdapter, self).__init__(**kwargs)\n",
    "\n",
    "    def init_poolmanager(self, *pool_args, **pool_kwargs):\n",
    "        ctx = ssl_.create_urllib3_context(ciphers=CIPHERS, cert_reqs=ssl.CERT_REQUIRED, options=self.ssl_options)\n",
    "        self.poolmanager = PoolManager(*pool_args, ssl_context=ctx, **pool_kwargs)\n",
    "\n",
    "session = requests.session()\n",
    "adapter = TlsAdapter(ssl.OP_NO_TLSv1 | ssl.OP_NO_TLSv1_1)\n",
    "session.mount(\"https://\", adapter)"
   ]
  },
  {
   "cell_type": "code",
   "execution_count": 213,
   "id": "4400b92c",
   "metadata": {},
   "outputs": [],
   "source": [
    "response = session.get(base_url+russian_cars, params={'p':'1'})"
   ]
  },
  {
   "cell_type": "code",
   "execution_count": 214,
   "id": "b997ef61",
   "metadata": {},
   "outputs": [
    {
     "data": {
      "text/plain": [
       "200"
      ]
     },
     "execution_count": 214,
     "metadata": {},
     "output_type": "execute_result"
    }
   ],
   "source": [
    "response.status_code"
   ]
  },
  {
   "cell_type": "code",
   "execution_count": 215,
   "id": "3935c417",
   "metadata": {},
   "outputs": [],
   "source": [
    "soup = bs(response.content, 'html.parser')"
   ]
  },
  {
   "cell_type": "code",
   "execution_count": 216,
   "id": "c99356d1",
   "metadata": {},
   "outputs": [
    {
     "data": {
      "text/plain": [
       "56"
      ]
     },
     "execution_count": 216,
     "metadata": {},
     "output_type": "execute_result"
    }
   ],
   "source": [
    "offers = soup.select('div[itemtype=\"http://schema.org/Product\"]')\n",
    "len(offer_blocks)"
   ]
  },
  {
   "cell_type": "code",
   "execution_count": 234,
   "id": "9af90d58",
   "metadata": {},
   "outputs": [],
   "source": [
    "def parse_offer(offer):\n",
    "    price = float(offer.select_one('div[class*=price]').get_text().replace('\\xa0', '')[:-1])\n",
    "\n",
    "    title = offer.select_one('div[class*=title]').get_text()\n",
    "    brand_model, year = title.split(', ')\n",
    "\n",
    "    car_params = offer.select_one('div[class*=autoParams]').get_text().replace('\\xa0', '').split(', ')\n",
    "    car_params = car_params[-5:] # Sometimes there is more car params like condition 'Битый' and they go before main 5 params\n",
    "\n",
    "    mileage = float(car_params[0][:-2])\n",
    "\n",
    "    modification = car_params[1]\n",
    "    modification_info = modification.split(' ')\n",
    "    engine_capacity = float(modification_info[0])\n",
    "    horsepower = modification_info[2][1:-5] # remove brackets and postfix 'л.с.'\n",
    "\n",
    "    body_type = car_params[2]\n",
    "    drive_type = car_params[3]\n",
    "    engine_type = car_params[4]\n",
    "\n",
    "    offer_location = offer.select_one('div[class*=geo]').get_text()\n",
    "    is_offer_vip = 'items-vip' in offer.parent['class'][0]\n",
    "\n",
    "    offer_url = base_url + offer.select_one('a[data-marker=item-title]')['href']\n",
    "\n",
    "    car = Car(\n",
    "        price,\n",
    "        brand_model,\n",
    "        year,\n",
    "        mileage,\n",
    "        engine_capacity,\n",
    "        horsepower,\n",
    "        body_type,\n",
    "        drive_type,\n",
    "        None, # no transmission info in the \n",
    "        engine_type,\n",
    "        is_offer_vip,\n",
    "        offer_location,\n",
    "        offer_url\n",
    "    )\n",
    "    return car"
   ]
  },
  {
   "cell_type": "code",
   "execution_count": 235,
   "id": "eb11e350",
   "metadata": {},
   "outputs": [],
   "source": [
    "cars = []\n",
    "for offer in offers:\n",
    "    cars.append(parse_offer(offer))"
   ]
  },
  {
   "cell_type": "code",
   "execution_count": 240,
   "id": "a4b8a6bd",
   "metadata": {},
   "outputs": [],
   "source": [
    "import pandas"
   ]
  },
  {
   "cell_type": "code",
   "execution_count": 241,
   "id": "5ee772de",
   "metadata": {},
   "outputs": [],
   "source": [
    "df = pandas.DataFrame(cars)"
   ]
  },
  {
   "cell_type": "code",
   "execution_count": 242,
   "id": "4c64e97d",
   "metadata": {},
   "outputs": [
    {
     "data": {
      "text/html": [
       "<div>\n",
       "<style scoped>\n",
       "    .dataframe tbody tr th:only-of-type {\n",
       "        vertical-align: middle;\n",
       "    }\n",
       "\n",
       "    .dataframe tbody tr th {\n",
       "        vertical-align: top;\n",
       "    }\n",
       "\n",
       "    .dataframe thead th {\n",
       "        text-align: right;\n",
       "    }\n",
       "</style>\n",
       "<table border=\"1\" class=\"dataframe\">\n",
       "  <thead>\n",
       "    <tr style=\"text-align: right;\">\n",
       "      <th></th>\n",
       "      <th>price</th>\n",
       "      <th>brand_model</th>\n",
       "      <th>year</th>\n",
       "      <th>mileage</th>\n",
       "      <th>engine_capacity</th>\n",
       "      <th>horsepower</th>\n",
       "      <th>body_type</th>\n",
       "      <th>drive_type</th>\n",
       "      <th>transmission</th>\n",
       "      <th>engine_type</th>\n",
       "      <th>is_offer_vip</th>\n",
       "      <th>offer_location</th>\n",
       "      <th>offer_url</th>\n",
       "    </tr>\n",
       "  </thead>\n",
       "  <tbody>\n",
       "    <tr>\n",
       "      <th>0</th>\n",
       "      <td>499000.0</td>\n",
       "      <td>Mazda 3</td>\n",
       "      <td>2010</td>\n",
       "      <td>148556.0</td>\n",
       "      <td>1.6</td>\n",
       "      <td>105</td>\n",
       "      <td>хетчбэк</td>\n",
       "      <td>передний</td>\n",
       "      <td>None</td>\n",
       "      <td>бензин</td>\n",
       "      <td>False</td>\n",
       "      <td>Санкт-Петербург</td>\n",
       "      <td>https://www.avito.ru/sankt-peterburg/avtomobil...</td>\n",
       "    </tr>\n",
       "    <tr>\n",
       "      <th>1</th>\n",
       "      <td>560000.0</td>\n",
       "      <td>Renault Logan</td>\n",
       "      <td>2019</td>\n",
       "      <td>56800.0</td>\n",
       "      <td>1.6</td>\n",
       "      <td>82</td>\n",
       "      <td>седан</td>\n",
       "      <td>передний</td>\n",
       "      <td>None</td>\n",
       "      <td>бензин</td>\n",
       "      <td>False</td>\n",
       "      <td>Нижегородская область, Нижний Новгород</td>\n",
       "      <td>https://www.avito.ru/nizhniy_novgorod/avtomobi...</td>\n",
       "    </tr>\n",
       "    <tr>\n",
       "      <th>2</th>\n",
       "      <td>320000.0</td>\n",
       "      <td>Hyundai Starex</td>\n",
       "      <td>2003</td>\n",
       "      <td>288500.0</td>\n",
       "      <td>2.5</td>\n",
       "      <td>103</td>\n",
       "      <td>минивэн</td>\n",
       "      <td>задний</td>\n",
       "      <td>None</td>\n",
       "      <td>дизель</td>\n",
       "      <td>False</td>\n",
       "      <td>Москва</td>\n",
       "      <td>https://www.avito.ru/moskva/avtomobili/hyundai...</td>\n",
       "    </tr>\n",
       "    <tr>\n",
       "      <th>3</th>\n",
       "      <td>549990.0</td>\n",
       "      <td>Mazda 6</td>\n",
       "      <td>2008</td>\n",
       "      <td>147035.0</td>\n",
       "      <td>2.0</td>\n",
       "      <td>147</td>\n",
       "      <td>седан</td>\n",
       "      <td>передний</td>\n",
       "      <td>None</td>\n",
       "      <td>бензин</td>\n",
       "      <td>False</td>\n",
       "      <td>Санкт-Петербург</td>\n",
       "      <td>https://www.avito.ru/sankt-peterburg/avtomobil...</td>\n",
       "    </tr>\n",
       "    <tr>\n",
       "      <th>4</th>\n",
       "      <td>510000.0</td>\n",
       "      <td>Skoda Superb</td>\n",
       "      <td>2012</td>\n",
       "      <td>188000.0</td>\n",
       "      <td>1.8</td>\n",
       "      <td>152</td>\n",
       "      <td>лифтбек</td>\n",
       "      <td>передний</td>\n",
       "      <td>None</td>\n",
       "      <td>бензин</td>\n",
       "      <td>False</td>\n",
       "      <td>Санкт-Петербург</td>\n",
       "      <td>https://www.avito.ru/sankt-peterburg/avtomobil...</td>\n",
       "    </tr>\n",
       "  </tbody>\n",
       "</table>\n",
       "</div>"
      ],
      "text/plain": [
       "      price     brand_model  year   mileage  engine_capacity horsepower  \\\n",
       "0  499000.0         Mazda 3  2010  148556.0              1.6        105   \n",
       "1  560000.0   Renault Logan  2019   56800.0              1.6         82   \n",
       "2  320000.0  Hyundai Starex  2003  288500.0              2.5        103   \n",
       "3  549990.0         Mazda 6  2008  147035.0              2.0        147   \n",
       "4  510000.0    Skoda Superb  2012  188000.0              1.8        152   \n",
       "\n",
       "  body_type drive_type transmission engine_type  is_offer_vip  \\\n",
       "0   хетчбэк   передний         None      бензин         False   \n",
       "1     седан   передний         None      бензин         False   \n",
       "2   минивэн     задний         None      дизель         False   \n",
       "3     седан   передний         None      бензин         False   \n",
       "4   лифтбек   передний         None      бензин         False   \n",
       "\n",
       "                           offer_location  \\\n",
       "0                         Санкт-Петербург   \n",
       "1  Нижегородская область, Нижний Новгород   \n",
       "2                                  Москва   \n",
       "3                         Санкт-Петербург   \n",
       "4                         Санкт-Петербург   \n",
       "\n",
       "                                           offer_url  \n",
       "0  https://www.avito.ru/sankt-peterburg/avtomobil...  \n",
       "1  https://www.avito.ru/nizhniy_novgorod/avtomobi...  \n",
       "2  https://www.avito.ru/moskva/avtomobili/hyundai...  \n",
       "3  https://www.avito.ru/sankt-peterburg/avtomobil...  \n",
       "4  https://www.avito.ru/sankt-peterburg/avtomobil...  "
      ]
     },
     "execution_count": 242,
     "metadata": {},
     "output_type": "execute_result"
    }
   ],
   "source": [
    "df.head()"
   ]
  },
  {
   "cell_type": "code",
   "execution_count": null,
   "id": "a204c1ac",
   "metadata": {},
   "outputs": [],
   "source": []
  }
 ],
 "metadata": {
  "kernelspec": {
   "display_name": "env_kernel",
   "language": "python",
   "name": "env_kernel"
  },
  "language_info": {
   "codemirror_mode": {
    "name": "ipython",
    "version": 3
   },
   "file_extension": ".py",
   "mimetype": "text/x-python",
   "name": "python",
   "nbconvert_exporter": "python",
   "pygments_lexer": "ipython3",
   "version": "3.10.5"
  }
 },
 "nbformat": 4,
 "nbformat_minor": 5
}
